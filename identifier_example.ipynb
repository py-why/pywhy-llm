{
 "cells": [
  {
   "cell_type": "code",
   "execution_count": 1,
   "metadata": {},
   "outputs": [
    {
     "name": "stderr",
     "output_type": "stream",
     "text": [
      "c:\\Users\\t-rdesicilia\\Documents\\VSCodeProjects\\Augment\\askwhy_venv\\lib\\site-packages\\tqdm\\auto.py:21: TqdmWarning: IProgress not found. Please update jupyter and ipywidgets. See https://ipywidgets.readthedocs.io/en/stable/user_install.html\n",
      "  from .autonotebook import tqdm as notebook_tqdm\n"
     ]
    }
   ],
   "source": [
    "from identification_suggestor import IdentificationSuggestor \n",
    "from dotenv import load_dotenv\n",
    "import guidance\n",
    "import os\n",
    "\n",
    "load_dotenv()\n",
    "\n",
    "api_key = os.getenv(\"api_key\")\n",
    "organization = os.getenv(\"organization\")\n",
    "\n",
    "# set the default language model used to execute guidance programs\n",
    "gpt4 = guidance.llms.OpenAI(api_key=api_key, organization=organization, model=\"gpt-4\")"
   ]
  },
  {
   "cell_type": "code",
   "execution_count": 2,
   "metadata": {},
   "outputs": [],
   "source": [
    "sea_ice_variables = [\n",
    "    \"geopotential_heights\", \n",
    "    \"relative_humidity\", \n",
    "    \"sea_level_pressure\",  \n",
    "    \"zonal_wind_at_10_meters\", \n",
    "    \"meridional_wind_at_10_meters\", \n",
    "    \"sensible_plus_latent_heat_flux\", \n",
    "    \"total_precipitation\", \n",
    "    \"total_cloud_cover\", \n",
    "    \"total_cloud_water_path\",  \n",
    "    \"surface_net_shortwave_flux\", \n",
    "    \"surface_net_longwave_flux\", \n",
    "    \"northern_hemisphere_sea_ice_extent\",\n",
    "]\n",
    "\n",
    "treatment = \"surface_net_longwave_flux\"\n",
    "outcome = \"northern_hemisphere_sea_ice_extent\"\n",
    "\n",
    "# ground truth confounders to the relationship between surface_net_longwave_flux and northern_hemisphere_sea_ice_extent\n",
    "ground_truth_confounders = [\"total_precipitation\"]\n",
    "   \n",
    "ground_truth_graph = {\n",
    "    (\"surface_net_longwave_flux\", \"northern_hemisphere_sea_ice_extent\"), \n",
    "    \n",
    "    (\"geopotential_heights\", \"surface_net_longwave_flux\"), \n",
    "    (\"geopotential_heights\", \"relative_humidity\"), \n",
    "    (\"geopotential_heights\", \"sea_level_pressure\"), \n",
    "\n",
    "    (\"relative_humidity\", \"total_cloud_cover\"), \n",
    "    (\"relative_humidity\", \"total_cloud_water_path\"),\n",
    "    (\"relative_humidity\", \"total_precipitation\"), \n",
    "    (\"relative_humidity\", \"surface_net_longwave_flux\"),\n",
    "\n",
    "    (\"sea_level_pressure\", \"relative_humidity\"), \n",
    "    (\"sea_level_pressure\", \"geopotential_heights\"), \n",
    "    (\"sea_level_pressure\", \"zonal_wind_at_10_meters\"), \n",
    "    (\"sea_level_pressure\", \"northern_hemisphere_sea_ice_extent\"), \n",
    "    (\"sea_level_pressure\", \"sensible_plus_latent_heat_flux\"), \n",
    "    (\"sea_level_pressure\", \"meridional_wind_at_10_meters\"),\n",
    "\n",
    "    (\"zonal_wind_at_10_meters\", \"northern_hemisphere_sea_ice_extent\"),\n",
    "    (\"zonal_wind_at_10_meters\", \"sensible_plus_latent_heat_flux\"), \n",
    "    \n",
    "    (\"meridional_wind_at_10_meters\", \"northern_hemisphere_sea_ice_extent\"),\n",
    "    (\"meridional_wind_at_10_meters\", \"sensible_plus_latent_heat_flux\"), \n",
    "   \n",
    "    (\"sensible_plus_latent_heat_flux\", \"northern_hemisphere_sea_ice_extent\"), \n",
    "    (\"sensible_plus_latent_heat_flux\", \"sea_level_pressure\"), \n",
    "    (\"sensible_plus_latent_heat_flux\", \"zonal_wind_at_10_meters\"), \n",
    "    (\"sensible_plus_latent_heat_flux\", \"meridional_wind_at_10_meters\"), \n",
    "    (\"sensible_plus_latent_heat_flux\", \"total_precipitation\"), \n",
    "    (\"sensible_plus_latent_heat_flux\", \"total_cloud_cover\"), \n",
    "    (\"sensible_plus_latent_heat_flux\", \"total_cloud_water_path\"), \n",
    "    \n",
    "    (\"total_precipitation\", \"northern_hemisphere_sea_ice_extent\"),\n",
    "    (\"total_precipitation\", \"relative_humidity\"),\n",
    "    (\"total_precipitation\", \"sensible_plus_latent_heat_flux\"),\n",
    "    (\"total_precipitation\", \"surface_net_longwave_flux\"),\n",
    "    (\"total_precipitation\", \"total_cloud_cover\"),\n",
    "    (\"total_precipitation\", \"total_cloud_water_path\"),\n",
    "   \n",
    "    (\"total_cloud_water_path\", \"total_precipitation\"), \n",
    "    (\"total_cloud_water_path\", \"sensible_plus_latent_heat_flux\"), \n",
    "    (\"total_cloud_water_path\", \"relative_humidity\"), \n",
    "    (\"total_cloud_water_path\", \"surface_net_longwave_flux\"), \n",
    "    (\"total_cloud_water_path\", \"surface_net_shortwave_flux\"), \n",
    "    \n",
    "    (\"total_cloud_cover\", \"total_precipitation\"),\n",
    "    (\"total_cloud_cover\", \"sensible_plus_latent_heat_flux\"),\n",
    "    (\"total_cloud_cover\", \"relative_humidity\"),\n",
    "    (\"total_cloud_cover\", \"surface_net_longwave_flux\"),\n",
    "    (\"total_cloud_cover\", \"surface_net_shortwave_flux\"), \n",
    "    \n",
    "    (\"surface_net_shortwave_flux\", \"northern_hemisphere_sea_ice_extent\"),\n",
    "    \n",
    "    (\"northern_hemisphere_sea_ice_extent\", \"sea_level_pressure\"),\n",
    "    (\"northern_hemisphere_sea_ice_extent\", \"zonal_wind_at_10_meters\"),\n",
    "    (\"northern_hemisphere_sea_ice_extent\", \"meridional_wind_at_10_meters\"),\n",
    "    (\"northern_hemisphere_sea_ice_extent\", \"sensible_plus_latent_heat_flux\"),\n",
    "    (\"northern_hemisphere_sea_ice_extent\", \"surface_net_shortwave_flux\"),\n",
    "    (\"northern_hemisphere_sea_ice_extent\", \"surface_net_longwave_flux\"),\n",
    "    }"
   ]
  },
  {
   "cell_type": "code",
   "execution_count": 3,
   "metadata": {},
   "outputs": [
    {
     "name": "stdout",
     "output_type": "stream",
     "text": [
      "['relative_humidity', 'geopotential_heights', 'meridional_wind_at_10_meters', 'surface_net_shortwave_flux', 'total_precipitation', 'sensible_plus_latent_heat_flux', 'total_cloud_water_path', 'surface_net_longwave_flux', 'northern_hemisphere_sea_ice_extent']\n"
     ]
    }
   ],
   "source": [
    "import random \n",
    "\n",
    "random.seed(42)  # Set the random seed for reproducibility\n",
    "subset_size = 7\n",
    "selected_variables = random.sample(sea_ice_variables[:-2], subset_size)\n",
    "\n",
    "selected_variables.append(treatment)\n",
    "selected_variables.append(outcome)  \n",
    "\n",
    "\n",
    "print(selected_variables)\n",
    "\n",
    "# grab the relationships that match the subset variables\n",
    "subset_graph = set()    \n",
    "for a in selected_variables:\n",
    "    for b in selected_variables:\n",
    "        if a != b and (a, b) in ground_truth_graph:\n",
    "            subset_graph.add((a, b))\n",
    "\n"
   ]
  },
  {
   "cell_type": "code",
   "execution_count": 4,
   "metadata": {},
   "outputs": [],
   "source": [
    "identifier = IdentificationSuggestor()"
   ]
  },
  {
   "cell_type": "code",
   "execution_count": 5,
   "metadata": {},
   "outputs": [
    {
     "data": {
      "text/html": [
       "<div id=\"guidance-stop-button-b3bb32d5-b750-4904-aaae-e64b3849058d\" style=\"cursor: pointer; margin: 0px; display: none; float: right; padding: 3px; border-radius: 4px 4px 4px 4px; border: 0px solid rgba(127, 127, 127, 1); padding-left: 10px; padding-right: 10px; font-size: 13px; background-color: rgba(127, 127, 127, 0.25);\">Stop program</div><div id=\"guidance-content-b3bb32d5-b750-4904-aaae-e64b3849058d\"><pre style='margin: 0px; padding: 0px; padding-left: 8px; margin-left: -8px; border-radius: 0px; border-left: 1px solid rgba(127, 127, 127, 0.2); white-space: pre-wrap; font-family: ColfaxAI, Arial; font-size: 15px; line-height: 23px;'><div style='display: flex; border-bottom: 1px solid rgba(127, 127, 127, 0.2); align-items: center;'><div style='flex: 0 0 80px; opacity: 0.5;'>system</div><div style='flex-grow: 1; padding: 5px; padding-top: 10px; padding-bottom: 10px; margin-top: 0px; white-space: pre-wrap; margin-bottom: 0px;'>You are a helpful assistant on causal reasoning and arctic sea ice and atmosphere sciences. Your goal is to answer questions factually and concisely about whether and how a causal effect can be estimated using your domain knowledge on artic sea ice and atmosphere sciences.</div></div><div style='display: flex; border-bottom: 1px solid rgba(127, 127, 127, 0.2); align-items: center;'><div style='flex: 0 0 80px; opacity: 0.5;'>user</div><div style='flex-grow: 1; padding: 5px; padding-top: 10px; padding-bottom: 10px; margin-top: 0px; white-space: pre-wrap; margin-bottom: 0px;'>Is <span style='background-color: rgba(0, 138.56128016, 250.76166089, 0.25); display: inline;' title='{{variable}}'>total_cloud_water_path</span> a confounder that when conditioned on can unbias the <span style='background-color: rgba(0, 138.56128016, 250.76166089, 0.25); display: inline;' title='{{treatment}}'>surface_net_longwave_flux</span> -&gt; <span style='background-color: rgba(0, 138.56128016, 250.76166089, 0.25); display: inline;' title='{{outcome}}'>northern_hemisphere_sea_ice_extent</span> causal effect estimation? \n",
       "            A. Yes\n",
       "            B. No\n",
       "            Let&#x27;s think step-by-step to make sure that we have the right answer. Keep your argument and references to no more than one paragraph, otherwise you lose points, and wrap it within the tags, &lt;explanation&gt;...&lt;/explanation&gt;. Then provide your final answer within the tags, &lt;answer&gt;A/B&lt;/answer&gt;.</div></div><div style='display: flex; border-bottom: 1px solid rgba(127, 127, 127, 0.2); align-items: center;'><div style='flex: 0 0 80px; opacity: 0.5;'>assistant</div><div style='flex-grow: 1; padding: 5px; padding-top: 10px; padding-bottom: 10px; margin-top: 0px; white-space: pre-wrap; margin-bottom: 0px;'><span style='background-color: rgba(0, 165, 0, 0.25); opacity: 1.0; display: inline;' title='{{gen &#x27;backdoor_set&#x27; temperature=0.5}}'>&lt;explanation&gt;In the context of Arctic sea ice and atmosphere sciences, total cloud water path can be a confounder because it can affect both the surface net longwave flux and the northern hemisphere sea ice extent. Clouds can modulate the surface net longwave flux by reflecting and absorbing the radiation, and the total cloud water path is a measure of the total amount of water in a column of cloud, which can change the radiation balance. On the other hand, clouds can also affect the sea ice extent by influencing the surface temperature and consequently the melting and freezing of sea ice. Therefore, conditioning on the total cloud water path can potentially unbias the causal effect estimation between surface net longwave flux and northern hemisphere sea ice extent.&lt;/explanation&gt;\n",
       "\n",
       "&lt;answer&gt;A&lt;/answer&gt;</span></div></div></pre></div>\n",
       "<script type=\"text/javascript\">(()=>{var t={296:(t,e,n)=>{var i=NaN,o=\"[object Symbol]\",r=/^\\s+|\\s+$/g,a=/^[-+]0x[0-9a-f]+$/i,s=/^0b[01]+$/i,c=/^0o[0-7]+$/i,d=parseInt,u=\"object\"==typeof n.g&&n.g&&n.g.Object===Object&&n.g,l=\"object\"==typeof self&&self&&self.Object===Object&&self,f=u||l||Function(\"return this\")(),h=Object.prototype.toString,p=Math.max,m=Math.min,g=function(){return f.Date.now()};function b(t){var e=typeof t;return!!t&&(\"object\"==e||\"function\"==e)}function y(t){if(\"number\"==typeof t)return t;if(function(t){return\"symbol\"==typeof t||function(t){return!!t&&\"object\"==typeof t}(t)&&h.call(t)==o}(t))return i;if(b(t)){var e=\"function\"==typeof t.valueOf?t.valueOf():t;t=b(e)?e+\"\":e}if(\"string\"!=typeof t)return 0===t?t:+t;t=t.replace(r,\"\");var n=s.test(t);return n||c.test(t)?d(t.slice(2),n?2:8):a.test(t)?i:+t}t.exports=function(t,e,n){var i,o,r,a,s,c,d=0,u=!1,l=!1,f=!0;if(\"function\"!=typeof t)throw new TypeError(\"Expected a function\");function h(e){var n=i,r=o;return i=o=void 0,d=e,a=t.apply(r,n)}function v(t){var n=t-c;return void 0===c||n>=e||n<0||l&&t-d>=r}function _(){var t=g();if(v(t))return w(t);s=setTimeout(_,function(t){var n=e-(t-c);return l?m(n,r-(t-d)):n}(t))}function w(t){return s=void 0,f&&i?h(t):(i=o=void 0,a)}function j(){var t=g(),n=v(t);if(i=arguments,o=this,c=t,n){if(void 0===s)return function(t){return d=t,s=setTimeout(_,e),u?h(t):a}(c);if(l)return s=setTimeout(_,e),h(c)}return void 0===s&&(s=setTimeout(_,e)),a}return e=y(e)||0,b(n)&&(u=!!n.leading,r=(l=\"maxWait\"in n)?p(y(n.maxWait)||0,e):r,f=\"trailing\"in n?!!n.trailing:f),j.cancel=function(){void 0!==s&&clearTimeout(s),d=0,i=c=o=s=void 0},j.flush=function(){return void 0===s?a:w(g())},j}},777:t=>{var e,n,i=Math.max,o=(e=function(t,e){return function(t,e,n){if(\"function\"!=typeof t)throw new TypeError(\"Expected a function\");return setTimeout((function(){t.apply(void 0,n)}),1)}(t,0,e)},n=i(void 0===n?e.length-1:n,0),function(){for(var t=arguments,o=-1,r=i(t.length-n,0),a=Array(r);++o<r;)a[o]=t[n+o];o=-1;for(var s=Array(n+1);++o<n;)s[o]=t[o];return s[n]=a,function(t,e,n){switch(n.length){case 0:return t.call(e);case 1:return t.call(e,n[0]);case 2:return t.call(e,n[0],n[1]);case 3:return t.call(e,n[0],n[1],n[2])}return t.apply(e,n)}(e,this,s)});t.exports=o}},e={};function n(i){var o=e[i];if(void 0!==o)return o.exports;var r=e[i]={exports:{}};return t[i](r,r.exports,n),r.exports}n.n=t=>{var e=t&&t.__esModule?()=>t.default:()=>t;return n.d(e,{a:e}),e},n.d=(t,e)=>{for(var i in e)n.o(e,i)&&!n.o(t,i)&&Object.defineProperty(t,i,{enumerable:!0,get:e[i]})},n.g=function(){if(\"object\"==typeof globalThis)return globalThis;try{return this||new Function(\"return this\")()}catch(t){if(\"object\"==typeof window)return window}}(),n.o=(t,e)=>Object.prototype.hasOwnProperty.call(t,e),(()=>{\"use strict\";const t=t=>{const e=new Set;do{for(const n of Reflect.ownKeys(t))e.add([t,n])}while((t=Reflect.getPrototypeOf(t))&&t!==Object.prototype);return e};function e(e,{include:n,exclude:i}={}){const o=t=>{const e=e=>\"string\"==typeof e?t===e:e.test(t);return n?n.some(e):!i||!i.some(e)};for(const[n,i]of t(e.constructor.prototype)){if(\"constructor\"===i||!o(i))continue;const t=Reflect.getOwnPropertyDescriptor(n,i);t&&\"function\"==typeof t.value&&(e[i]=e[i].bind(e))}return e}var i=n(777),o=n.n(i),r=n(296),a=n.n(r);class s{constructor(t,n){e(this),this.interfaceId=t,this.callbackMap={},this.data={},this.pendingData={},this.jcomm=new c(\"guidance_interface_target_\"+this.interfaceId,this.updateData,\"open\"),this.debouncedSendPendingData500=a()(this.sendPendingData,500),this.debouncedSendPendingData1000=a()(this.sendPendingData,1e3),n&&o()(n)}send(t,e){this.addPendingData(t,e),this.sendPendingData()}sendEvent(t){for(const e of Object.keys(t))this.addPendingData(e,t[e]);this.sendPendingData()}debouncedSendEvent500(t){for(const e of Object.keys(t))this.addPendingData(e,t[e]);this.debouncedSendPendingData500()}debouncedSend500(t,e){this.addPendingData(t,e),this.debouncedSendPendingData500()}debouncedSend1000(t,e){this.addPendingData(t,e),this.debouncedSendPendingData1000()}addPendingData(t,e){Array.isArray(t)||(t=[t]);for(const n in t)this.pendingData[t[n]]=e}updateData(t){t=JSON.parse(t.data);for(const e in t)this.data[e]=t[e];for(const e in t)e in this.callbackMap&&this.callbackMap[e](this.data[e])}subscribe(t,e){this.callbackMap[t]=e,o()((e=>this.callbackMap[t](this.data[t])))}sendPendingData(){this.jcomm.send_data(this.pendingData),this.pendingData={}}}class c{constructor(t,e,n=\"open\"){this._fire_callback=this._fire_callback.bind(this),this._register=this._register.bind(this),this.jcomm=void 0,this.callback=e,void 0!==window.Jupyter?\"register\"===n?Jupyter.notebook.kernel.comm_manager.register_target(t,this._register):(this.jcomm=Jupyter.notebook.kernel.comm_manager.new_comm(t),this.jcomm.on_msg(this._fire_callback)):void 0!==window._mgr&&(\"register\"===n?window._mgr.widgetManager.proxyKernel.registerCommTarget(t,this._register):(this.jcomm=window._mgr.widgetManager.proxyKernel.createComm(t),this.jcomm.open({},\"\"),this.jcomm.onMsg=this._fire_callback))}send_data(t){void 0!==this.jcomm?this.jcomm.send(t):console.error(\"Jupyter comm module not yet loaded! So we can't send the message.\")}_register(t,e){this.jcomm=t,this.jcomm.on_msg(this._fire_callback)}_fire_callback(t){this.callback(t.content.data)}}class d{constructor(t,n){e(this),this.id=t,this.comm=new s(t),this.comm.subscribe(\"append\",this.appendData),this.comm.subscribe(\"replace\",this.replaceData),this.comm.subscribe(\"event\",this.eventOccurred),this.element=document.getElementById(\"guidance-content-\"+t),this.stop_button=document.getElementById(\"guidance-stop-button-\"+t),this.stop_button.onclick=()=>this.comm.send(\"event\",\"stop\")}appendData(t){t&&(this.stop_button.style.display=\"inline-block\",this.element.innerHTML+=t)}replaceData(t){t&&(this.stop_button.style.display=\"inline-block\",this.element.innerHTML=t)}eventOccurred(t){\"complete\"===t&&(this.stop_button.style.display=\"none\")}}window._guidanceDisplay=function(t,e){return new d(t,e)}})()})();; window._guidanceDisplay(\"b3bb32d5-b750-4904-aaae-e64b3849058d\");</script>"
      ]
     },
     "metadata": {},
     "output_type": "display_data"
    },
    {
     "name": "stdout",
     "output_type": "stream",
     "text": [
      "Backdoor\n",
      " ['relative_humidity', 'total_precipitation', 'sensible_plus_latent_heat_flux', 'total_cloud_water_path']\n"
     ]
    }
   ],
   "source": [
    "backdoor = identifier.suggest_backdoor(llm=gpt4, treatment=treatment, outcome=outcome, variables=selected_variables)\n",
    "print(\"Backdoor\\n\", backdoor)"
   ]
  },
  {
   "cell_type": "code",
   "execution_count": 6,
   "metadata": {},
   "outputs": [
    {
     "data": {
      "text/html": [
       "<div id=\"guidance-stop-button-1bcf1fc2-a5ee-4659-bf15-bd1e3da3aab4\" style=\"cursor: pointer; margin: 0px; display: none; float: right; padding: 3px; border-radius: 4px 4px 4px 4px; border: 0px solid rgba(127, 127, 127, 1); padding-left: 10px; padding-right: 10px; font-size: 13px; background-color: rgba(127, 127, 127, 0.25);\">Stop program</div><div id=\"guidance-content-1bcf1fc2-a5ee-4659-bf15-bd1e3da3aab4\"><pre style='margin: 0px; padding: 0px; padding-left: 8px; margin-left: -8px; border-radius: 0px; border-left: 1px solid rgba(127, 127, 127, 0.2); white-space: pre-wrap; font-family: ColfaxAI, Arial; font-size: 15px; line-height: 23px;'><div style='display: flex; border-bottom: 1px solid rgba(127, 127, 127, 0.2); align-items: center;'><div style='flex: 0 0 80px; opacity: 0.5;'>system</div><div style='flex-grow: 1; padding: 5px; padding-top: 10px; padding-bottom: 10px; margin-top: 0px; white-space: pre-wrap; margin-bottom: 0px;'>You are a helpful assistant on causal reasoning and arctic sea ice and atmosphere sciences. Your goal is to answer questions factually and concisely about whether and how a causal effect can be estimated using your domain knowledge on artic sea ice and atmosphere sciences.</div></div><div style='display: flex; border-bottom: 1px solid rgba(127, 127, 127, 0.2); align-items: center;'><div style='flex: 0 0 80px; opacity: 0.5;'>user</div><div style='flex-grow: 1; padding: 5px; padding-top: 10px; padding-bottom: 10px; margin-top: 0px; white-space: pre-wrap; margin-bottom: 0px;'>Is <span style='background-color: rgba(0, 138.56128016, 250.76166089, 0.25); display: inline;' title='{{variable}}'>total_cloud_water_path</span> a mediator that when conditioned on can unbias the <span style='background-color: rgba(0, 138.56128016, 250.76166089, 0.25); display: inline;' title='{{treatment}}'>surface_net_longwave_flux</span> -&gt; <span style='background-color: rgba(0, 138.56128016, 250.76166089, 0.25); display: inline;' title='{{outcome}}'>northern_hemisphere_sea_ice_extent</span> causal effect estimation? \n",
       "        A. Yes\n",
       "        B. No\n",
       "        Let&#x27;s think step-by-step to make sure that we have the right answer. Keep your argument and references to no more than one paragraph, otherwise you lose points, and wrap it within the tags, &lt;explanation&gt;...&lt;/explanation&gt;. Then provide your final answer within the tags, &lt;answer&gt;A/B&lt;/answer&gt;.</div></div><div style='display: flex; border-bottom: 1px solid rgba(127, 127, 127, 0.2); align-items: center;'><div style='flex: 0 0 80px; opacity: 0.5;'>assistant</div><div style='flex-grow: 1; padding: 5px; padding-top: 10px; padding-bottom: 10px; margin-top: 0px; white-space: pre-wrap; margin-bottom: 0px;'><span style='background-color: rgba(0, 165, 0, 0.25); opacity: 1.0; display: inline;' title='{{gen &#x27;frontdoor_set&#x27; temperature=0.7}}'>&lt;explanation&gt;In order to determine if total_cloud_water_path can be a mediator, it needs to be influenced by the independent variable (surface_net_longwave_flux) and also have an effect on the dependent variable (northern_hemisphere_sea_ice_extent). While it is true that cloud water path can influence the amount of longwave radiation reaching the surface, thereby influencing sea ice extent, it&#x27;s not directly influenced by the surface net longwave flux - rather, it&#x27;s the other way around. The net longwave flux at the surface is influenced by the total cloud water path, as it impacts the amount of energy absorbed and reflected by the atmosphere. Therefore, total_cloud_water_path cannot be a mediator that when conditioned on can unbias the surface_net_longwave_flux -&gt; northern_hemisphere_sea_ice_extent causal effect estimation. &lt;/explanation&gt;\n",
       "\n",
       "&lt;answer&gt;B&lt;/answer&gt;</span></div></div></pre></div>\n",
       "<script type=\"text/javascript\">(()=>{var t={296:(t,e,n)=>{var i=NaN,o=\"[object Symbol]\",r=/^\\s+|\\s+$/g,a=/^[-+]0x[0-9a-f]+$/i,s=/^0b[01]+$/i,c=/^0o[0-7]+$/i,d=parseInt,u=\"object\"==typeof n.g&&n.g&&n.g.Object===Object&&n.g,l=\"object\"==typeof self&&self&&self.Object===Object&&self,f=u||l||Function(\"return this\")(),h=Object.prototype.toString,p=Math.max,m=Math.min,g=function(){return f.Date.now()};function b(t){var e=typeof t;return!!t&&(\"object\"==e||\"function\"==e)}function y(t){if(\"number\"==typeof t)return t;if(function(t){return\"symbol\"==typeof t||function(t){return!!t&&\"object\"==typeof t}(t)&&h.call(t)==o}(t))return i;if(b(t)){var e=\"function\"==typeof t.valueOf?t.valueOf():t;t=b(e)?e+\"\":e}if(\"string\"!=typeof t)return 0===t?t:+t;t=t.replace(r,\"\");var n=s.test(t);return n||c.test(t)?d(t.slice(2),n?2:8):a.test(t)?i:+t}t.exports=function(t,e,n){var i,o,r,a,s,c,d=0,u=!1,l=!1,f=!0;if(\"function\"!=typeof t)throw new TypeError(\"Expected a function\");function h(e){var n=i,r=o;return i=o=void 0,d=e,a=t.apply(r,n)}function v(t){var n=t-c;return void 0===c||n>=e||n<0||l&&t-d>=r}function _(){var t=g();if(v(t))return w(t);s=setTimeout(_,function(t){var n=e-(t-c);return l?m(n,r-(t-d)):n}(t))}function w(t){return s=void 0,f&&i?h(t):(i=o=void 0,a)}function j(){var t=g(),n=v(t);if(i=arguments,o=this,c=t,n){if(void 0===s)return function(t){return d=t,s=setTimeout(_,e),u?h(t):a}(c);if(l)return s=setTimeout(_,e),h(c)}return void 0===s&&(s=setTimeout(_,e)),a}return e=y(e)||0,b(n)&&(u=!!n.leading,r=(l=\"maxWait\"in n)?p(y(n.maxWait)||0,e):r,f=\"trailing\"in n?!!n.trailing:f),j.cancel=function(){void 0!==s&&clearTimeout(s),d=0,i=c=o=s=void 0},j.flush=function(){return void 0===s?a:w(g())},j}},777:t=>{var e,n,i=Math.max,o=(e=function(t,e){return function(t,e,n){if(\"function\"!=typeof t)throw new TypeError(\"Expected a function\");return setTimeout((function(){t.apply(void 0,n)}),1)}(t,0,e)},n=i(void 0===n?e.length-1:n,0),function(){for(var t=arguments,o=-1,r=i(t.length-n,0),a=Array(r);++o<r;)a[o]=t[n+o];o=-1;for(var s=Array(n+1);++o<n;)s[o]=t[o];return s[n]=a,function(t,e,n){switch(n.length){case 0:return t.call(e);case 1:return t.call(e,n[0]);case 2:return t.call(e,n[0],n[1]);case 3:return t.call(e,n[0],n[1],n[2])}return t.apply(e,n)}(e,this,s)});t.exports=o}},e={};function n(i){var o=e[i];if(void 0!==o)return o.exports;var r=e[i]={exports:{}};return t[i](r,r.exports,n),r.exports}n.n=t=>{var e=t&&t.__esModule?()=>t.default:()=>t;return n.d(e,{a:e}),e},n.d=(t,e)=>{for(var i in e)n.o(e,i)&&!n.o(t,i)&&Object.defineProperty(t,i,{enumerable:!0,get:e[i]})},n.g=function(){if(\"object\"==typeof globalThis)return globalThis;try{return this||new Function(\"return this\")()}catch(t){if(\"object\"==typeof window)return window}}(),n.o=(t,e)=>Object.prototype.hasOwnProperty.call(t,e),(()=>{\"use strict\";const t=t=>{const e=new Set;do{for(const n of Reflect.ownKeys(t))e.add([t,n])}while((t=Reflect.getPrototypeOf(t))&&t!==Object.prototype);return e};function e(e,{include:n,exclude:i}={}){const o=t=>{const e=e=>\"string\"==typeof e?t===e:e.test(t);return n?n.some(e):!i||!i.some(e)};for(const[n,i]of t(e.constructor.prototype)){if(\"constructor\"===i||!o(i))continue;const t=Reflect.getOwnPropertyDescriptor(n,i);t&&\"function\"==typeof t.value&&(e[i]=e[i].bind(e))}return e}var i=n(777),o=n.n(i),r=n(296),a=n.n(r);class s{constructor(t,n){e(this),this.interfaceId=t,this.callbackMap={},this.data={},this.pendingData={},this.jcomm=new c(\"guidance_interface_target_\"+this.interfaceId,this.updateData,\"open\"),this.debouncedSendPendingData500=a()(this.sendPendingData,500),this.debouncedSendPendingData1000=a()(this.sendPendingData,1e3),n&&o()(n)}send(t,e){this.addPendingData(t,e),this.sendPendingData()}sendEvent(t){for(const e of Object.keys(t))this.addPendingData(e,t[e]);this.sendPendingData()}debouncedSendEvent500(t){for(const e of Object.keys(t))this.addPendingData(e,t[e]);this.debouncedSendPendingData500()}debouncedSend500(t,e){this.addPendingData(t,e),this.debouncedSendPendingData500()}debouncedSend1000(t,e){this.addPendingData(t,e),this.debouncedSendPendingData1000()}addPendingData(t,e){Array.isArray(t)||(t=[t]);for(const n in t)this.pendingData[t[n]]=e}updateData(t){t=JSON.parse(t.data);for(const e in t)this.data[e]=t[e];for(const e in t)e in this.callbackMap&&this.callbackMap[e](this.data[e])}subscribe(t,e){this.callbackMap[t]=e,o()((e=>this.callbackMap[t](this.data[t])))}sendPendingData(){this.jcomm.send_data(this.pendingData),this.pendingData={}}}class c{constructor(t,e,n=\"open\"){this._fire_callback=this._fire_callback.bind(this),this._register=this._register.bind(this),this.jcomm=void 0,this.callback=e,void 0!==window.Jupyter?\"register\"===n?Jupyter.notebook.kernel.comm_manager.register_target(t,this._register):(this.jcomm=Jupyter.notebook.kernel.comm_manager.new_comm(t),this.jcomm.on_msg(this._fire_callback)):void 0!==window._mgr&&(\"register\"===n?window._mgr.widgetManager.proxyKernel.registerCommTarget(t,this._register):(this.jcomm=window._mgr.widgetManager.proxyKernel.createComm(t),this.jcomm.open({},\"\"),this.jcomm.onMsg=this._fire_callback))}send_data(t){void 0!==this.jcomm?this.jcomm.send(t):console.error(\"Jupyter comm module not yet loaded! So we can't send the message.\")}_register(t,e){this.jcomm=t,this.jcomm.on_msg(this._fire_callback)}_fire_callback(t){this.callback(t.content.data)}}class d{constructor(t,n){e(this),this.id=t,this.comm=new s(t),this.comm.subscribe(\"append\",this.appendData),this.comm.subscribe(\"replace\",this.replaceData),this.comm.subscribe(\"event\",this.eventOccurred),this.element=document.getElementById(\"guidance-content-\"+t),this.stop_button=document.getElementById(\"guidance-stop-button-\"+t),this.stop_button.onclick=()=>this.comm.send(\"event\",\"stop\")}appendData(t){t&&(this.stop_button.style.display=\"inline-block\",this.element.innerHTML+=t)}replaceData(t){t&&(this.stop_button.style.display=\"inline-block\",this.element.innerHTML=t)}eventOccurred(t){\"complete\"===t&&(this.stop_button.style.display=\"none\")}}window._guidanceDisplay=function(t,e){return new d(t,e)}})()})();; window._guidanceDisplay(\"1bcf1fc2-a5ee-4659-bf15-bd1e3da3aab4\");</script>"
      ]
     },
     "metadata": {},
     "output_type": "display_data"
    },
    {
     "name": "stdout",
     "output_type": "stream",
     "text": [
      "Frontdoor\n",
      " ['surface_net_shortwave_flux']\n"
     ]
    }
   ],
   "source": [
    "frontdoor = identifier.suggest_frontdoor(llm=gpt4, treatment=treatment, outcome=outcome, variables=selected_variables)\n",
    "print(\"Frontdoor\\n\", frontdoor) "
   ]
  },
  {
   "cell_type": "code",
   "execution_count": 7,
   "metadata": {},
   "outputs": [
    {
     "data": {
      "text/html": [
       "<div id=\"guidance-stop-button-f1229811-1b03-4079-8b0a-cc6461586fd4\" style=\"cursor: pointer; margin: 0px; display: none; float: right; padding: 3px; border-radius: 4px 4px 4px 4px; border: 0px solid rgba(127, 127, 127, 1); padding-left: 10px; padding-right: 10px; font-size: 13px; background-color: rgba(127, 127, 127, 0.25);\">Stop program</div><div id=\"guidance-content-f1229811-1b03-4079-8b0a-cc6461586fd4\"><pre style='margin: 0px; padding: 0px; padding-left: 8px; margin-left: -8px; border-radius: 0px; border-left: 1px solid rgba(127, 127, 127, 0.2); white-space: pre-wrap; font-family: ColfaxAI, Arial; font-size: 15px; line-height: 23px;'><div style='display: flex; border-bottom: 1px solid rgba(127, 127, 127, 0.2); align-items: center;'><div style='flex: 0 0 80px; opacity: 0.5;'>system</div><div style='flex-grow: 1; padding: 5px; padding-top: 10px; padding-bottom: 10px; margin-top: 0px; white-space: pre-wrap; margin-bottom: 0px;'>You are a helpful assistant on causal reasoning and arctic sea ice and atmosphere sciences. Your goal is to answer questions factually and concisely about whether and how a causal effect can be estimated using your domain knowledge on artic sea ice and atmosphere sciences.</div></div><div style='display: flex; border-bottom: 1px solid rgba(127, 127, 127, 0.2); align-items: center;'><div style='flex: 0 0 80px; opacity: 0.5;'>user</div><div style='flex-grow: 1; padding: 5px; padding-top: 10px; padding-bottom: 10px; margin-top: 0px; white-space: pre-wrap; margin-bottom: 0px;'>Is <span style='background-color: rgba(0, 138.56128016, 250.76166089, 0.25); display: inline;' title='{{variable}}'>total_cloud_water_path</span> an instrumental variable that when conditioned on can unbias the <span style='background-color: rgba(0, 138.56128016, 250.76166089, 0.25); display: inline;' title='{{treatment}}'>surface_net_longwave_flux</span> -&gt; <span style='background-color: rgba(0, 138.56128016, 250.76166089, 0.25); display: inline;' title='{{outcome}}'>northern_hemisphere_sea_ice_extent</span> causal effect estimation? \n",
       "        A. Yes\n",
       "        B. No\n",
       "        Let&#x27;s think step-by-step to make sure that we have the right answer. Keep your argument and references to no more than one paragraph, otherwise you lose points, and wrap it within the tags, &lt;explanation&gt;...&lt;/explanation&gt;. Then provide your final answer within the tags, &lt;answer&gt;A/B&lt;/answer&gt;.</div></div><div style='display: flex; border-bottom: 1px solid rgba(127, 127, 127, 0.2); align-items: center;'><div style='flex: 0 0 80px; opacity: 0.5;'>assistant</div><div style='flex-grow: 1; padding: 5px; padding-top: 10px; padding-bottom: 10px; margin-top: 0px; white-space: pre-wrap; margin-bottom: 0px;'><span style='background-color: rgba(0, 165, 0, 0.25); opacity: 1.0; display: inline;' title='{{gen &#x27;iv_set&#x27; temperature=0.3}}'>&lt;explanation&gt;In order for total_cloud_water_path to be an instrumental variable that can unbiasedly estimate the causal effect of surface_net_longwave_flux on northern_hemisphere_sea_ice_extent, it must satisfy two conditions: 1) relevance - it must be correlated with surface_net_longwave_flux, and 2) exogeneity - it must not be correlated with the error term in the causal relationship between surface_net_longwave_flux and northern_hemisphere_sea_ice_extent. Total_cloud_water_path is likely correlated with surface_net_longwave_flux because clouds can influence the longwave radiation at the surface. However, it&#x27;s also likely that total_cloud_water_path is influenced by other factors that can affect sea ice extent, such as temperature and wind patterns, which would violate the exogeneity condition. Therefore, it&#x27;s unlikely that total_cloud_water_path can be used as an instrumental variable to unbiasedly estimate this causal effect.&lt;/explanation&gt;\n",
       "\n",
       "&lt;answer&gt;B&lt;/answer&gt;</span></div></div></pre></div>\n",
       "<script type=\"text/javascript\">(()=>{var t={296:(t,e,n)=>{var i=NaN,o=\"[object Symbol]\",r=/^\\s+|\\s+$/g,a=/^[-+]0x[0-9a-f]+$/i,s=/^0b[01]+$/i,c=/^0o[0-7]+$/i,d=parseInt,u=\"object\"==typeof n.g&&n.g&&n.g.Object===Object&&n.g,l=\"object\"==typeof self&&self&&self.Object===Object&&self,f=u||l||Function(\"return this\")(),h=Object.prototype.toString,p=Math.max,m=Math.min,g=function(){return f.Date.now()};function b(t){var e=typeof t;return!!t&&(\"object\"==e||\"function\"==e)}function y(t){if(\"number\"==typeof t)return t;if(function(t){return\"symbol\"==typeof t||function(t){return!!t&&\"object\"==typeof t}(t)&&h.call(t)==o}(t))return i;if(b(t)){var e=\"function\"==typeof t.valueOf?t.valueOf():t;t=b(e)?e+\"\":e}if(\"string\"!=typeof t)return 0===t?t:+t;t=t.replace(r,\"\");var n=s.test(t);return n||c.test(t)?d(t.slice(2),n?2:8):a.test(t)?i:+t}t.exports=function(t,e,n){var i,o,r,a,s,c,d=0,u=!1,l=!1,f=!0;if(\"function\"!=typeof t)throw new TypeError(\"Expected a function\");function h(e){var n=i,r=o;return i=o=void 0,d=e,a=t.apply(r,n)}function v(t){var n=t-c;return void 0===c||n>=e||n<0||l&&t-d>=r}function _(){var t=g();if(v(t))return w(t);s=setTimeout(_,function(t){var n=e-(t-c);return l?m(n,r-(t-d)):n}(t))}function w(t){return s=void 0,f&&i?h(t):(i=o=void 0,a)}function j(){var t=g(),n=v(t);if(i=arguments,o=this,c=t,n){if(void 0===s)return function(t){return d=t,s=setTimeout(_,e),u?h(t):a}(c);if(l)return s=setTimeout(_,e),h(c)}return void 0===s&&(s=setTimeout(_,e)),a}return e=y(e)||0,b(n)&&(u=!!n.leading,r=(l=\"maxWait\"in n)?p(y(n.maxWait)||0,e):r,f=\"trailing\"in n?!!n.trailing:f),j.cancel=function(){void 0!==s&&clearTimeout(s),d=0,i=c=o=s=void 0},j.flush=function(){return void 0===s?a:w(g())},j}},777:t=>{var e,n,i=Math.max,o=(e=function(t,e){return function(t,e,n){if(\"function\"!=typeof t)throw new TypeError(\"Expected a function\");return setTimeout((function(){t.apply(void 0,n)}),1)}(t,0,e)},n=i(void 0===n?e.length-1:n,0),function(){for(var t=arguments,o=-1,r=i(t.length-n,0),a=Array(r);++o<r;)a[o]=t[n+o];o=-1;for(var s=Array(n+1);++o<n;)s[o]=t[o];return s[n]=a,function(t,e,n){switch(n.length){case 0:return t.call(e);case 1:return t.call(e,n[0]);case 2:return t.call(e,n[0],n[1]);case 3:return t.call(e,n[0],n[1],n[2])}return t.apply(e,n)}(e,this,s)});t.exports=o}},e={};function n(i){var o=e[i];if(void 0!==o)return o.exports;var r=e[i]={exports:{}};return t[i](r,r.exports,n),r.exports}n.n=t=>{var e=t&&t.__esModule?()=>t.default:()=>t;return n.d(e,{a:e}),e},n.d=(t,e)=>{for(var i in e)n.o(e,i)&&!n.o(t,i)&&Object.defineProperty(t,i,{enumerable:!0,get:e[i]})},n.g=function(){if(\"object\"==typeof globalThis)return globalThis;try{return this||new Function(\"return this\")()}catch(t){if(\"object\"==typeof window)return window}}(),n.o=(t,e)=>Object.prototype.hasOwnProperty.call(t,e),(()=>{\"use strict\";const t=t=>{const e=new Set;do{for(const n of Reflect.ownKeys(t))e.add([t,n])}while((t=Reflect.getPrototypeOf(t))&&t!==Object.prototype);return e};function e(e,{include:n,exclude:i}={}){const o=t=>{const e=e=>\"string\"==typeof e?t===e:e.test(t);return n?n.some(e):!i||!i.some(e)};for(const[n,i]of t(e.constructor.prototype)){if(\"constructor\"===i||!o(i))continue;const t=Reflect.getOwnPropertyDescriptor(n,i);t&&\"function\"==typeof t.value&&(e[i]=e[i].bind(e))}return e}var i=n(777),o=n.n(i),r=n(296),a=n.n(r);class s{constructor(t,n){e(this),this.interfaceId=t,this.callbackMap={},this.data={},this.pendingData={},this.jcomm=new c(\"guidance_interface_target_\"+this.interfaceId,this.updateData,\"open\"),this.debouncedSendPendingData500=a()(this.sendPendingData,500),this.debouncedSendPendingData1000=a()(this.sendPendingData,1e3),n&&o()(n)}send(t,e){this.addPendingData(t,e),this.sendPendingData()}sendEvent(t){for(const e of Object.keys(t))this.addPendingData(e,t[e]);this.sendPendingData()}debouncedSendEvent500(t){for(const e of Object.keys(t))this.addPendingData(e,t[e]);this.debouncedSendPendingData500()}debouncedSend500(t,e){this.addPendingData(t,e),this.debouncedSendPendingData500()}debouncedSend1000(t,e){this.addPendingData(t,e),this.debouncedSendPendingData1000()}addPendingData(t,e){Array.isArray(t)||(t=[t]);for(const n in t)this.pendingData[t[n]]=e}updateData(t){t=JSON.parse(t.data);for(const e in t)this.data[e]=t[e];for(const e in t)e in this.callbackMap&&this.callbackMap[e](this.data[e])}subscribe(t,e){this.callbackMap[t]=e,o()((e=>this.callbackMap[t](this.data[t])))}sendPendingData(){this.jcomm.send_data(this.pendingData),this.pendingData={}}}class c{constructor(t,e,n=\"open\"){this._fire_callback=this._fire_callback.bind(this),this._register=this._register.bind(this),this.jcomm=void 0,this.callback=e,void 0!==window.Jupyter?\"register\"===n?Jupyter.notebook.kernel.comm_manager.register_target(t,this._register):(this.jcomm=Jupyter.notebook.kernel.comm_manager.new_comm(t),this.jcomm.on_msg(this._fire_callback)):void 0!==window._mgr&&(\"register\"===n?window._mgr.widgetManager.proxyKernel.registerCommTarget(t,this._register):(this.jcomm=window._mgr.widgetManager.proxyKernel.createComm(t),this.jcomm.open({},\"\"),this.jcomm.onMsg=this._fire_callback))}send_data(t){void 0!==this.jcomm?this.jcomm.send(t):console.error(\"Jupyter comm module not yet loaded! So we can't send the message.\")}_register(t,e){this.jcomm=t,this.jcomm.on_msg(this._fire_callback)}_fire_callback(t){this.callback(t.content.data)}}class d{constructor(t,n){e(this),this.id=t,this.comm=new s(t),this.comm.subscribe(\"append\",this.appendData),this.comm.subscribe(\"replace\",this.replaceData),this.comm.subscribe(\"event\",this.eventOccurred),this.element=document.getElementById(\"guidance-content-\"+t),this.stop_button=document.getElementById(\"guidance-stop-button-\"+t),this.stop_button.onclick=()=>this.comm.send(\"event\",\"stop\")}appendData(t){t&&(this.stop_button.style.display=\"inline-block\",this.element.innerHTML+=t)}replaceData(t){t&&(this.stop_button.style.display=\"inline-block\",this.element.innerHTML=t)}eventOccurred(t){\"complete\"===t&&(this.stop_button.style.display=\"none\")}}window._guidanceDisplay=function(t,e){return new d(t,e)}})()})();; window._guidanceDisplay(\"f1229811-1b03-4079-8b0a-cc6461586fd4\");</script>"
      ]
     },
     "metadata": {},
     "output_type": "display_data"
    },
    {
     "name": "stdout",
     "output_type": "stream",
     "text": [
      "Instrumental Variable\n",
      " []\n"
     ]
    }
   ],
   "source": [
    "iv = identifier.suggest_iv(llm=gpt4, treatment=treatment, outcome=outcome, variables=selected_variables)\n",
    "print(\"Instrumental Variable\\n\", iv) "
   ]
  },
  {
   "cell_type": "code",
   "execution_count": 13,
   "metadata": {},
   "outputs": [],
   "source": [
    "estimand = identifier.suggest_identification(llm=gpt4, variables=selected_variables, treatment=treatment, outcome=outcome, backdoor=backdoor, frontdoor=frontdoor, iv=iv)  "
   ]
  },
  {
   "cell_type": "code",
   "execution_count": 12,
   "metadata": {},
   "outputs": [
    {
     "name": "stdout",
     "output_type": "stream",
     "text": [
      "Backdoor\n",
      " Estimand type: EstimandType.NONPARAMETRIC_ATE\n",
      "\n",
      "### Estimand : 1\n",
      "Estimand name: backdoor\n",
      "Estimand expression:\n",
      "                                     d                                        \n",
      "────────────────────────────────────────────────────────────────────────────(E\n",
      "d[s  u  r  f  a  c  e  _  n  e  t  _  l  o  n  g  w  a  v  e  _  f  l  u  x]  \n",
      "\n",
      "                                                                              \n",
      "[n|relative_humidity,total_precipitation,sensible_plus_latent_heat_flux,total_\n",
      "                                                                              \n",
      "\n",
      "                  \n",
      "cloud_water_path])\n",
      "                  \n",
      "Estimand assumption 1, Unconfoundedness: If U→{s,u,r,f,a,c,e,_,n,e,t,_,l,o,n,g,w,a,v,e,_,f,l,u,x} and U→n then P(n|s,u,r,f,a,c,e,_,n,e,t,_,l,o,n,g,w,a,v,e,_,f,l,u,x,relative_humidity,total_precipitation,sensible_plus_latent_heat_flux,total_cloud_water_path,U) = P(n|s,u,r,f,a,c,e,_,n,e,t,_,l,o,n,g,w,a,v,e,_,f,l,u,x,relative_humidity,total_precipitation,sensible_plus_latent_heat_flux,total_cloud_water_path)\n",
      "\n",
      "### Estimand : 2\n",
      "Estimand name: frontdoor\n",
      "Estimand expression:\n",
      " ⎡              d                                                       d     \n",
      "E⎢─────────────────────────────(n)⋅───────────────────────────────────────────\n",
      " ⎣d[surface_net_shortwave_flux]    d[s  u  r  f  a  c  e  _  n  e  t  _  l  o \n",
      "\n",
      "                                                               ⎤\n",
      "─────────────────────────────────([surface_net_shortwave_flux])⎥\n",
      " n  g  w  a  v  e  _  f  l  u  x]                              ⎦\n",
      "Estimand assumption 1, Full-mediation: surface_net_shortwave_flux intercepts (blocks) all directed paths from s,u,r,f,a,c,e,_,n,e,t,_,l,o,n,g,w,a,v,e,_,f,l,u,x to n.\n",
      "Estimand assumption 2, First-stage-unconfoundedness: If U→{s,u,r,f,a,c,e,_,n,e,t,_,l,o,n,g,w,a,v,e,_,f,l,u,x} and U→{surface_net_shortwave_flux} then P(surface_net_shortwave_flux|s,u,r,f,a,c,e,_,n,e,t,_,l,o,n,g,w,a,v,e,_,f,l,u,x,U) = P(surface_net_shortwave_flux|s,u,r,f,a,c,e,_,n,e,t,_,l,o,n,g,w,a,v,e,_,f,l,u,x)\n",
      "Estimand assumption 3, Second-stage-unconfoundedness: If U→{surface_net_shortwave_flux} and U→n then P(n|surface_net_shortwave_flux, s,u,r,f,a,c,e,_,n,e,t,_,l,o,n,g,w,a,v,e,_,f,l,u,x, U) = P(n|surface_net_shortwave_flux, s,u,r,f,a,c,e,_,n,e,t,_,l,o,n,g,w,a,v,e,_,f,l,u,x)\n",
      "\n",
      "### Estimand : 3\n",
      "Estimand name: iv\n",
      "No such variable(s) found!\n",
      "\n"
     ]
    }
   ],
   "source": [
    "print(estimand)"
   ]
  }
 ],
 "metadata": {
  "kernelspec": {
   "display_name": "askwhy_venv",
   "language": "python",
   "name": "python3"
  },
  "language_info": {
   "codemirror_mode": {
    "name": "ipython",
    "version": 3
   },
   "file_extension": ".py",
   "mimetype": "text/x-python",
   "name": "python",
   "nbconvert_exporter": "python",
   "pygments_lexer": "ipython3",
   "version": "3.10.11"
  },
  "orig_nbformat": 4
 },
 "nbformat": 4,
 "nbformat_minor": 2
}
