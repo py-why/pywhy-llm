{
 "cells": [
  {
   "attachments": {},
   "cell_type": "markdown",
   "metadata": {},
   "source": [
    "# Modeler"
   ]
  },
  {
   "attachments": {},
   "cell_type": "markdown",
   "metadata": {},
   "source": [
    "#### Load LLM"
   ]
  },
  {
   "cell_type": "code",
   "execution_count": null,
   "metadata": {},
   "outputs": [],
   "source": [
    "from dotenv import load_dotenv\n",
    "import guidance\n",
    "import os\n",
    "\n",
    "load_dotenv()\n",
    "\n",
    "api_key = os.getenv(\"api_key\")\n",
    "organization = os.getenv(\"organization\")\n",
    "\n",
    "gpt4 = guidance.llms.OpenAI(api_key=api_key, organization=organization, model=\"gpt-4\")"
   ]
  },
  {
   "cell_type": "markdown",
   "metadata": {},
   "source": [
    "#### Create Modeler"
   ]
  },
  {
   "cell_type": "code",
   "execution_count": null,
   "metadata": {},
   "outputs": [],
   "source": [
    "from model_suggestor import ModelSuggestor\n",
    "modeler = ModelSuggestor()"
   ]
  },
  {
   "attachments": {},
   "cell_type": "markdown",
   "metadata": {},
   "source": [
    "#### Ground truth data from Sea Dataset"
   ]
  },
  {
   "cell_type": "code",
   "execution_count": null,
   "metadata": {},
   "outputs": [],
   "source": [
    "sea_ice_variables = [\n",
    "    \"geopotential_heights\", \n",
    "    \"relative_humidity\", \n",
    "    \"sea_level_pressure\",  \n",
    "    \"zonal_wind_at_10_meters\", \n",
    "    \"meridional_wind_at_10_meters\", \n",
    "    \"sensible_plus_latent_heat_flux\", \n",
    "    \"total_precipitation\", \n",
    "    \"total_cloud_cover\", \n",
    "    \"total_cloud_water_path\",  \n",
    "    \"surface_net_shortwave_flux\", \n",
    "    \"surface_net_longwave_flux\", \n",
    "    \"northern_hemisphere_sea_ice_extent\",\n",
    "]\n",
    "\n",
    "treatment = \"surface_net_longwave_flux\"\n",
    "outcome = \"northern_hemisphere_sea_ice_extent\"\n",
    "\n",
    "# ground truth confounders to the relationship between surface_net_longwave_flux and northern_hemisphere_sea_ice_extent\n",
    "ground_truth_confounders = [\"total_precipitation\"]\n",
    "   \n",
    "ground_truth_graph = {\n",
    "    (\"surface_net_longwave_flux\", \"northern_hemisphere_sea_ice_extent\"), \n",
    "    \n",
    "    (\"geopotential_heights\", \"surface_net_longwave_flux\"), \n",
    "    (\"geopotential_heights\", \"relative_humidity\"), \n",
    "    (\"geopotential_heights\", \"sea_level_pressure\"), \n",
    "\n",
    "    (\"relative_humidity\", \"total_cloud_cover\"), \n",
    "    (\"relative_humidity\", \"total_cloud_water_path\"),\n",
    "    (\"relative_humidity\", \"total_precipitation\"), \n",
    "    (\"relative_humidity\", \"surface_net_longwave_flux\"),\n",
    "\n",
    "    (\"sea_level_pressure\", \"relative_humidity\"), \n",
    "    (\"sea_level_pressure\", \"geopotential_heights\"), \n",
    "    (\"sea_level_pressure\", \"zonal_wind_at_10_meters\"), \n",
    "    (\"sea_level_pressure\", \"northern_hemisphere_sea_ice_extent\"), \n",
    "    (\"sea_level_pressure\", \"sensible_plus_latent_heat_flux\"), \n",
    "    (\"sea_level_pressure\", \"meridional_wind_at_10_meters\"),\n",
    "\n",
    "    (\"zonal_wind_at_10_meters\", \"northern_hemisphere_sea_ice_extent\"),\n",
    "    (\"zonal_wind_at_10_meters\", \"sensible_plus_latent_heat_flux\"), \n",
    "    \n",
    "    (\"meridional_wind_at_10_meters\", \"northern_hemisphere_sea_ice_extent\"),\n",
    "    (\"meridional_wind_at_10_meters\", \"sensible_plus_latent_heat_flux\"), \n",
    "   \n",
    "    (\"sensible_plus_latent_heat_flux\", \"northern_hemisphere_sea_ice_extent\"), \n",
    "    (\"sensible_plus_latent_heat_flux\", \"sea_level_pressure\"), \n",
    "    (\"sensible_plus_latent_heat_flux\", \"zonal_wind_at_10_meters\"), \n",
    "    (\"sensible_plus_latent_heat_flux\", \"meridional_wind_at_10_meters\"), \n",
    "    (\"sensible_plus_latent_heat_flux\", \"total_precipitation\"), \n",
    "    (\"sensible_plus_latent_heat_flux\", \"total_cloud_cover\"), \n",
    "    (\"sensible_plus_latent_heat_flux\", \"total_cloud_water_path\"), \n",
    "    \n",
    "    (\"total_precipitation\", \"northern_hemisphere_sea_ice_extent\"),\n",
    "    (\"total_precipitation\", \"relative_humidity\"),\n",
    "    (\"total_precipitation\", \"sensible_plus_latent_heat_flux\"),\n",
    "    (\"total_precipitation\", \"surface_net_longwave_flux\"),\n",
    "    (\"total_precipitation\", \"total_cloud_cover\"),\n",
    "    (\"total_precipitation\", \"total_cloud_water_path\"),\n",
    "   \n",
    "    (\"total_cloud_water_path\", \"total_precipitation\"), \n",
    "    (\"total_cloud_water_path\", \"sensible_plus_latent_heat_flux\"), \n",
    "    (\"total_cloud_water_path\", \"relative_humidity\"), \n",
    "    (\"total_cloud_water_path\", \"surface_net_longwave_flux\"), \n",
    "    (\"total_cloud_water_path\", \"surface_net_shortwave_flux\"), \n",
    "    \n",
    "    (\"total_cloud_cover\", \"total_precipitation\"),\n",
    "    (\"total_cloud_cover\", \"sensible_plus_latent_heat_flux\"),\n",
    "    (\"total_cloud_cover\", \"relative_humidity\"),\n",
    "    (\"total_cloud_cover\", \"surface_net_longwave_flux\"),\n",
    "    (\"total_cloud_cover\", \"surface_net_shortwave_flux\"), \n",
    "    \n",
    "    (\"surface_net_shortwave_flux\", \"northern_hemisphere_sea_ice_extent\"),\n",
    "    \n",
    "    (\"northern_hemisphere_sea_ice_extent\", \"sea_level_pressure\"),\n",
    "    (\"northern_hemisphere_sea_ice_extent\", \"zonal_wind_at_10_meters\"),\n",
    "    (\"northern_hemisphere_sea_ice_extent\", \"meridional_wind_at_10_meters\"),\n",
    "    (\"northern_hemisphere_sea_ice_extent\", \"sensible_plus_latent_heat_flux\"),\n",
    "    (\"northern_hemisphere_sea_ice_extent\", \"surface_net_shortwave_flux\"),\n",
    "    (\"northern_hemisphere_sea_ice_extent\", \"surface_net_longwave_flux\"),\n",
    "    }"
   ]
  },
  {
   "attachments": {},
   "cell_type": "markdown",
   "metadata": {},
   "source": [
    "#### Select random dataset subset"
   ]
  },
  {
   "cell_type": "code",
   "execution_count": null,
   "metadata": {},
   "outputs": [],
   "source": [
    "import random \n",
    "\n",
    "random.seed(42)  # Set the random seed for reproducibility\n",
    "subset_size = 7\n",
    "selected_variables = random.sample(sea_ice_variables[:-2], subset_size)\n",
    "\n",
    "selected_variables.append(treatment)\n",
    "selected_variables.append(outcome)  \n",
    "\n",
    "\n",
    "print(selected_variables)\n",
    "\n",
    "# grab the relationships that match the subset variables\n",
    "subset_graph = set()    \n",
    "for a in selected_variables:\n",
    "    for b in selected_variables:\n",
    "        if a != b and (a, b) in ground_truth_graph:\n",
    "            subset_graph.add((a, b))\n",
    "\n"
   ]
  },
  {
   "cell_type": "code",
   "execution_count": null,
   "metadata": {},
   "outputs": [],
   "source": [
    "import networkx as nx\n",
    "\n",
    "g = nx.DiGraph()\n",
    "g.add_nodes_from(selected_variables)\n",
    "g.add_edges_from(subset_graph)\n",
    "\n",
    "'''show graph'''\n",
    "import matplotlib.pyplot as plt\n",
    "\n",
    "nx.draw(g, with_labels=True)\n",
    "plt.show()"
   ]
  },
  {
   "attachments": {},
   "cell_type": "markdown",
   "metadata": {},
   "source": [
    "#### Generate Synthetic Dataset"
   ]
  },
  {
   "cell_type": "code",
   "execution_count": null,
   "metadata": {},
   "outputs": [],
   "source": [
    "import pandas as pd\n",
    "import dowhy.datasets\n",
    "\n",
    "synthetic_data = dowhy.datasets.linear_dataset(\n",
    "    beta=1,\n",
    "    treatment_is_binary=False,\n",
    "    num_common_causes=len(selected_variables),\n",
    "    num_samples=5000\n",
    ")\n",
    "\n",
    "df = synthetic_data['df']\n",
    "print(df.head())\n",
    "\n",
    "ate = synthetic_data['ate']\n",
    "print(\"ATE:\", ate)"
   ]
  },
  {
   "cell_type": "markdown",
   "metadata": {},
   "source": [
    "#### Suggest Variable Descriptions"
   ]
  },
  {
   "cell_type": "code",
   "execution_count": null,
   "metadata": {},
   "outputs": [],
   "source": [
    "variables_and_descriptions = modeler.suggest_descriptions(variable_names=selected_variables, llm=gpt4)"
   ]
  },
  {
   "cell_type": "code",
   "execution_count": null,
   "metadata": {},
   "outputs": [],
   "source": [
    "for variable, description in variables_and_descriptions.items():\n",
    "    print(f\"{variable}\\n{description}\")"
   ]
  },
  {
   "cell_type": "markdown",
   "metadata": {},
   "source": [
    "#### Suggest Confounders"
   ]
  },
  {
   "cell_type": "code",
   "execution_count": null,
   "metadata": {},
   "outputs": [],
   "source": [
    "confounders_and_descriptions = modeler.suggest_confounders(variables_and_descriptions=variables_and_descriptions, llm=gpt4, treatment=treatment, outcome=outcome)"
   ]
  },
  {
   "cell_type": "code",
   "execution_count": null,
   "metadata": {},
   "outputs": [],
   "source": [
    "confounders_and_descriptions"
   ]
  },
  {
   "cell_type": "markdown",
   "metadata": {},
   "source": [
    "#### Suggest Pairwise Relationships"
   ]
  },
  {
   "cell_type": "code",
   "execution_count": null,
   "metadata": {},
   "outputs": [],
   "source": [
    "relationships = modeler.suggest_variable_relationships(variables_and_descriptions=variables_and_descriptions, llm=gpt4)"
   ]
  },
  {
   "cell_type": "code",
   "execution_count": null,
   "metadata": {},
   "outputs": [],
   "source": [
    "relationships"
   ]
  },
  {
   "cell_type": "code",
   "execution_count": null,
   "metadata": {},
   "outputs": [],
   "source": [
    "[('relative_humidity', 'surface_net_shortwave_flux'),\n",
    " ('relative_humidity', 'sensible_plus_latent_heat_flux'),\n",
    " ('relative_humidity', 'total_cloud_water_path'),\n",
    " ('relative_humidity', 'surface_net_longwave_flux'),\n",
    " ('relative_humidity', 'northern_hemisphere_sea_ice_extent'),\n",
    " ('geopotential_heights', 'relative_humidity'),\n",
    " ('geopotential_heights', 'meridional_wind_at_10_meters'),\n",
    " ('geopotential_heights', 'total_precipitation'),\n",
    " ('geopotential_heights', 'sensible_plus_latent_heat_flux'),\n",
    " ('geopotential_heights', 'total_cloud_water_path'),\n",
    " ('meridional_wind_at_10_meters', 'relative_humidity'),\n",
    " ('meridional_wind_at_10_meters', 'surface_net_shortwave_flux'),\n",
    " ('meridional_wind_at_10_meters', 'total_precipitation'),\n",
    " ('meridional_wind_at_10_meters', 'sensible_plus_latent_heat_flux'),\n",
    " ('meridional_wind_at_10_meters', 'total_cloud_water_path'),\n",
    " ('meridional_wind_at_10_meters', 'surface_net_longwave_flux'),\n",
    " ('meridional_wind_at_10_meters', 'northern_hemisphere_sea_ice_extent'),\n",
    " ('surface_net_shortwave_flux', 'geopotential_heights'),\n",
    " ('surface_net_shortwave_flux', 'total_precipitation'),\n",
    " ('surface_net_shortwave_flux', 'sensible_plus_latent_heat_flux'),\n",
    " ('surface_net_shortwave_flux', 'total_cloud_water_path'),\n",
    " ('surface_net_shortwave_flux', 'surface_net_longwave_flux'),\n",
    " ('surface_net_shortwave_flux', 'northern_hemisphere_sea_ice_extent'),\n",
    " ('total_precipitation', 'relative_humidity'),\n",
    " ('total_precipitation', 'sensible_plus_latent_heat_flux'),\n",
    " ('total_precipitation', 'surface_net_longwave_flux'),\n",
    " ('total_precipitation', 'northern_hemisphere_sea_ice_extent'),\n",
    " ('sensible_plus_latent_heat_flux', 'total_cloud_water_path'),\n",
    " ('sensible_plus_latent_heat_flux', 'northern_hemisphere_sea_ice_extent'),\n",
    " ('total_cloud_water_path', 'total_precipitation'),\n",
    " ('total_cloud_water_path', 'surface_net_longwave_flux'),\n",
    " ('total_cloud_water_path', 'northern_hemisphere_sea_ice_extent'),\n",
    " ('surface_net_longwave_flux', 'geopotential_heights'),\n",
    " ('surface_net_longwave_flux', 'sensible_plus_latent_heat_flux'),\n",
    " ('surface_net_longwave_flux', 'northern_hemisphere_sea_ice_extent'),\n",
    " ('northern_hemisphere_sea_ice_extent', 'geopotential_heights')]"
   ]
  },
  {
   "cell_type": "markdown",
   "metadata": {},
   "source": [
    "#### Full Graph"
   ]
  },
  {
   "cell_type": "code",
   "execution_count": null,
   "metadata": {},
   "outputs": [],
   "source": [
    "import matplotlib.pyplot as plt\n",
    "import networkx as nx\n",
    "\n",
    "g = nx.DiGraph()\n",
    "g.add_nodes_from(selected_variables)\n",
    "g.add_edges_from(relationships)\n",
    "\n",
    "nx.draw(g, with_labels=True)\n",
    "plt.show()\n"
   ]
  },
  {
   "cell_type": "markdown",
   "metadata": {},
   "source": [
    "# Identifier"
   ]
  },
  {
   "cell_type": "code",
   "execution_count": null,
   "metadata": {},
   "outputs": [],
   "source": [
    "from identification_suggestor import IdentificationSuggestor \n",
    "from dotenv import load_dotenv\n",
    "import guidance\n",
    "import os\n",
    "\n",
    "load_dotenv()\n",
    "\n",
    "api_key = os.getenv(\"api_key\")\n",
    "organization = os.getenv(\"organization\")\n",
    "\n",
    "# set the default language model used to execute guidance programs\n",
    "gpt4 = guidance.llms.OpenAI(api_key=api_key, organization=organization, model=\"gpt-4\")"
   ]
  },
  {
   "cell_type": "markdown",
   "metadata": {},
   "source": [
    "#### Create Identifier"
   ]
  },
  {
   "cell_type": "code",
   "execution_count": null,
   "metadata": {},
   "outputs": [],
   "source": [
    "identifier = IdentificationSuggestor()"
   ]
  },
  {
   "cell_type": "markdown",
   "metadata": {},
   "source": [
    "#### Suggest Backdoor"
   ]
  },
  {
   "cell_type": "code",
   "execution_count": null,
   "metadata": {},
   "outputs": [],
   "source": [
    "backdoor = identifier.suggest_backdoor(llm=gpt4, treatment=treatment, outcome=outcome, variables=selected_variables)\n",
    "print(\"Backdoor\\n\", backdoor)"
   ]
  },
  {
   "cell_type": "markdown",
   "metadata": {},
   "source": [
    "#### Suggest Frontdoor"
   ]
  },
  {
   "cell_type": "code",
   "execution_count": null,
   "metadata": {},
   "outputs": [],
   "source": [
    "frontdoor = identifier.suggest_frontdoor(llm=gpt4, treatment=treatment, outcome=outcome, variables=selected_variables)\n",
    "print(\"Frontdoor\\n\", frontdoor) "
   ]
  },
  {
   "cell_type": "markdown",
   "metadata": {},
   "source": [
    "#### Suggest IVs"
   ]
  },
  {
   "cell_type": "code",
   "execution_count": null,
   "metadata": {},
   "outputs": [],
   "source": [
    "iv = identifier.suggest_iv(llm=gpt4, treatment=treatment, outcome=outcome, variables=selected_variables)\n",
    "print(\"Instrumental Variable\\n\", iv) "
   ]
  },
  {
   "cell_type": "markdown",
   "metadata": {},
   "source": [
    "#### Suggest Estimand\n"
   ]
  },
  {
   "cell_type": "code",
   "execution_count": 5,
   "metadata": {},
   "outputs": [
    {
     "ename": "NameError",
     "evalue": "name 'identifier' is not defined",
     "output_type": "error",
     "traceback": [
      "\u001b[1;31m---------------------------------------------------------------------------\u001b[0m",
      "\u001b[1;31mNameError\u001b[0m                                 Traceback (most recent call last)",
      "Cell \u001b[1;32mIn[5], line 1\u001b[0m\n\u001b[1;32m----> 1\u001b[0m estimand \u001b[39m=\u001b[39m identifier\u001b[39m.\u001b[39msuggest_identification(llm\u001b[39m=\u001b[39mgpt4, variables\u001b[39m=\u001b[39mselected_variables, treatment\u001b[39m=\u001b[39mtreatment, outcome\u001b[39m=\u001b[39moutcome, backdoor\u001b[39m=\u001b[39mbackdoor, frontdoor\u001b[39m=\u001b[39mfrontdoor, iv\u001b[39m=\u001b[39miv)  \n",
      "\u001b[1;31mNameError\u001b[0m: name 'identifier' is not defined"
     ]
    }
   ],
   "source": [
    "estimand = identifier.suggest_identification(llm=gpt4, variables=selected_variables, treatment=treatment, outcome=outcome, backdoor=backdoor, frontdoor=frontdoor, iv=iv)  "
   ]
  },
  {
   "cell_type": "code",
   "execution_count": null,
   "metadata": {},
   "outputs": [],
   "source": [
    "print(estimand)"
   ]
  },
  {
   "cell_type": "markdown",
   "metadata": {},
   "source": [
    "# Validator"
   ]
  },
  {
   "cell_type": "code",
   "execution_count": 1,
   "metadata": {},
   "outputs": [],
   "source": [
    "from validation_suggestor import ValidationSuggestor \n",
    "from dotenv import load_dotenv\n",
    "import guidance\n",
    "import os\n",
    "\n",
    "load_dotenv()\n",
    "\n",
    "api_key = os.getenv(\"api_key\")\n",
    "organization = os.getenv(\"organization\")\n",
    "\n",
    "# set the default language model used to execute guidance programs\n",
    "gpt4 = guidance.llms.OpenAI(api_key=api_key, organization=organization, model=\"gpt-4\")"
   ]
  },
  {
   "cell_type": "code",
   "execution_count": 2,
   "metadata": {},
   "outputs": [],
   "source": [
    "validator = ValidationSuggestor()"
   ]
  },
  {
   "cell_type": "code",
   "execution_count": 3,
   "metadata": {},
   "outputs": [],
   "source": [
    "relationships = [('relative_humidity', 'surface_net_shortwave_flux'),\n",
    " ('relative_humidity', 'sensible_plus_latent_heat_flux'),\n",
    " ('relative_humidity', 'total_cloud_water_path'),\n",
    " ('relative_humidity', 'surface_net_longwave_flux'),\n",
    " ('relative_humidity', 'northern_hemisphere_sea_ice_extent'),\n",
    " ('geopotential_heights', 'relative_humidity'),\n",
    " ('geopotential_heights', 'meridional_wind_at_10_meters'),\n",
    " ('geopotential_heights', 'total_precipitation'),\n",
    " ('geopotential_heights', 'sensible_plus_latent_heat_flux'),\n",
    " ('geopotential_heights', 'total_cloud_water_path'),\n",
    " ('meridional_wind_at_10_meters', 'relative_humidity'),\n",
    " ('meridional_wind_at_10_meters', 'surface_net_shortwave_flux'),\n",
    " ('meridional_wind_at_10_meters', 'total_precipitation'),\n",
    " ('meridional_wind_at_10_meters', 'sensible_plus_latent_heat_flux'),\n",
    " ('meridional_wind_at_10_meters', 'total_cloud_water_path'),\n",
    " ('meridional_wind_at_10_meters', 'surface_net_longwave_flux'),\n",
    " ('meridional_wind_at_10_meters', 'northern_hemisphere_sea_ice_extent'),\n",
    " ('surface_net_shortwave_flux', 'geopotential_heights'),\n",
    " ('surface_net_shortwave_flux', 'total_precipitation'),\n",
    " ('surface_net_shortwave_flux', 'sensible_plus_latent_heat_flux'),\n",
    " ('surface_net_shortwave_flux', 'total_cloud_water_path'),\n",
    " ('surface_net_shortwave_flux', 'surface_net_longwave_flux'),\n",
    " ('surface_net_shortwave_flux', 'northern_hemisphere_sea_ice_extent'),\n",
    " ('total_precipitation', 'relative_humidity'),\n",
    " ('total_precipitation', 'sensible_plus_latent_heat_flux'),\n",
    " ('total_precipitation', 'surface_net_longwave_flux'),\n",
    " ('total_precipitation', 'northern_hemisphere_sea_ice_extent'),\n",
    " ('sensible_plus_latent_heat_flux', 'total_cloud_water_path'),\n",
    " ('sensible_plus_latent_heat_flux', 'northern_hemisphere_sea_ice_extent'),\n",
    " ('total_cloud_water_path', 'total_precipitation'),\n",
    " ('total_cloud_water_path', 'surface_net_longwave_flux'),\n",
    " ('total_cloud_water_path', 'northern_hemisphere_sea_ice_extent'),\n",
    " ('surface_net_longwave_flux', 'geopotential_heights'),\n",
    " ('surface_net_longwave_flux', 'sensible_plus_latent_heat_flux'),\n",
    " ('surface_net_longwave_flux', 'northern_hemisphere_sea_ice_extent'),\n",
    " ('northern_hemisphere_sea_ice_extent', 'geopotential_heights')]"
   ]
  },
  {
   "cell_type": "code",
   "execution_count": 4,
   "metadata": {},
   "outputs": [
    {
     "data": {
      "text/html": [
       "<div id=\"guidance-stop-button-ddd4ffdb-95e4-4a95-b24a-286f1e585678\" style=\"cursor: pointer; margin: 0px; display: none; float: right; padding: 3px; border-radius: 4px 4px 4px 4px; border: 0px solid rgba(127, 127, 127, 1); padding-left: 10px; padding-right: 10px; font-size: 13px; background-color: rgba(127, 127, 127, 0.25);\">Stop program</div><div id=\"guidance-content-ddd4ffdb-95e4-4a95-b24a-286f1e585678\"><pre style='margin: 0px; padding: 0px; padding-left: 8px; margin-left: -8px; border-radius: 0px; border-left: 1px solid rgba(127, 127, 127, 0.2); white-space: pre-wrap; font-family: ColfaxAI, Arial; font-size: 15px; line-height: 23px;'><div style='display: flex; border-bottom: 1px solid rgba(127, 127, 127, 0.2); align-items: center;'><div style='flex: 0 0 80px; opacity: 0.5;'>system</div><div style='flex-grow: 1; padding: 5px; padding-top: 10px; padding-bottom: 10px; margin-top: 0px; white-space: pre-wrap; margin-bottom: 0px;'>You are a helpful assistant on causal reasoning. Your goal is to factually and concisely answer questions about cause and effect relationships using your domain knowledge on artic sea ice and atmosphere sciences.</div></div><div style='display: flex; border-bottom: 1px solid rgba(127, 127, 127, 0.2); align-items: center;'><div style='flex: 0 0 80px; opacity: 0.5;'>user</div><div style='flex-grow: 1; padding: 5px; padding-top: 10px; padding-bottom: 10px; margin-top: 0px; white-space: pre-wrap; margin-bottom: 0px;'>Analyze the output from an AI assistant. Is the final answer <span style='background-color: rgba(0, 138.56128016, 250.76166089, 0.25); display: inline;' title='{{answer}}'>A</span> consistent with the reasoning provided by the assistant?\n",
       "                        \n",
       "        Question\n",
       "        Which cause and effect relationship is more likely?\n",
       "        A. <span style='background-color: rgba(0, 138.56128016, 250.76166089, 0.25); display: inline;' title='{{variable_a}}'>sensible_plus_latent_heat_flux</span> causes <span style='background-color: rgba(0, 138.56128016, 250.76166089, 0.25); display: inline;' title='{{variable_b}}'>geopotential_heights</span>?\n",
       "        B. <span style='background-color: rgba(0, 138.56128016, 250.76166089, 0.25); display: inline;' title='{{variable_b}}'>geopotential_heights</span> causes <span style='background-color: rgba(0, 138.56128016, 250.76166089, 0.25); display: inline;' title='{{variable_a}}'>sensible_plus_latent_heat_flux</span>?\n",
       "        C. Neither. No causal relationship exists. \n",
       "        Let&#x27;s think step-by-step to make sure that we have the right answer. Keep your argument to no more than one paragraph, otherwise you lose points, and wrap it within the tags, &lt;explanation&gt;...&lt;/explanation&gt;. Then provide your final answer within the tags, &lt;answer&gt;A/B/C&lt;/answer&gt;.\n",
       "            \n",
       "        AI Assistant Explanation\n",
       "        <span style='background-color: rgba(0, 138.56128016, 250.76166089, 0.25); display: inline;' title='{{explanation}}'>Geopotential height is a measure of the potential energy of a unit mass relative to sea level, and it is influenced by the temperature of the atmospheric column. Sensible and latent heat fluxes, on the other hand, are measures of heat transfer from the Earth&#x27;s surface to the atmosphere. Thus, it is more likely that sensible and latent heat fluxes, which can change the temperature of the atmosphere, would have an effect on geopotential heights, rather than the other way around. However, it&#x27;s important to note that these relationships are complex and can be influenced by a variety of other factors.</span>          \n",
       "                        \n",
       "        Critique the AI Assistant&#x27;s argument by providing your own individual version of the argument. Provide your explanations within the tags, &lt;explanation&gt;...&lt;/explanation&gt; and answer your final answer to the question within the tags, &lt;answer&gt;A/B/C&lt;/answer&gt;.</div></div><div style='display: flex; border-bottom: 1px solid rgba(127, 127, 127, 0.2); align-items: center;'><div style='flex: 0 0 80px; opacity: 0.5;'>assistant</div><div style='flex-grow: 1; padding: 5px; padding-top: 10px; padding-bottom: 10px; margin-top: 0px; white-space: pre-wrap; margin-bottom: 0px;'><span style='background-color: rgba(0, 165, 0, 0.25); opacity: 1.0; display: inline;' title='{{gen &#x27;relationship&#x27; temperature=0.3}}'>&lt;explanation&gt;The AI assistant&#x27;s reasoning is correct. Geopotential height is a measure of the potential energy of a unit mass relative to sea level, and it is affected by the temperature of the atmospheric column. Sensible and latent heat fluxes represent the heat transfer from the Earth&#x27;s surface to the atmosphere. Therefore, it is more plausible that sensible and latent heat fluxes, which can alter the atmospheric temperature, would influence geopotential heights rather than the reverse. It&#x27;s crucial to remember, though, that these relationships are intricate and can be affected by numerous other factors.&lt;/explanation&gt;\n",
       "\n",
       "&lt;answer&gt;B&lt;/answer&gt;</span></div></div></pre></div>\n",
       "<script type=\"text/javascript\">(()=>{var t={296:(t,e,n)=>{var i=NaN,o=\"[object Symbol]\",r=/^\\s+|\\s+$/g,a=/^[-+]0x[0-9a-f]+$/i,s=/^0b[01]+$/i,c=/^0o[0-7]+$/i,d=parseInt,u=\"object\"==typeof n.g&&n.g&&n.g.Object===Object&&n.g,l=\"object\"==typeof self&&self&&self.Object===Object&&self,f=u||l||Function(\"return this\")(),h=Object.prototype.toString,p=Math.max,m=Math.min,g=function(){return f.Date.now()};function b(t){var e=typeof t;return!!t&&(\"object\"==e||\"function\"==e)}function y(t){if(\"number\"==typeof t)return t;if(function(t){return\"symbol\"==typeof t||function(t){return!!t&&\"object\"==typeof t}(t)&&h.call(t)==o}(t))return i;if(b(t)){var e=\"function\"==typeof t.valueOf?t.valueOf():t;t=b(e)?e+\"\":e}if(\"string\"!=typeof t)return 0===t?t:+t;t=t.replace(r,\"\");var n=s.test(t);return n||c.test(t)?d(t.slice(2),n?2:8):a.test(t)?i:+t}t.exports=function(t,e,n){var i,o,r,a,s,c,d=0,u=!1,l=!1,f=!0;if(\"function\"!=typeof t)throw new TypeError(\"Expected a function\");function h(e){var n=i,r=o;return i=o=void 0,d=e,a=t.apply(r,n)}function v(t){var n=t-c;return void 0===c||n>=e||n<0||l&&t-d>=r}function _(){var t=g();if(v(t))return w(t);s=setTimeout(_,function(t){var n=e-(t-c);return l?m(n,r-(t-d)):n}(t))}function w(t){return s=void 0,f&&i?h(t):(i=o=void 0,a)}function j(){var t=g(),n=v(t);if(i=arguments,o=this,c=t,n){if(void 0===s)return function(t){return d=t,s=setTimeout(_,e),u?h(t):a}(c);if(l)return s=setTimeout(_,e),h(c)}return void 0===s&&(s=setTimeout(_,e)),a}return e=y(e)||0,b(n)&&(u=!!n.leading,r=(l=\"maxWait\"in n)?p(y(n.maxWait)||0,e):r,f=\"trailing\"in n?!!n.trailing:f),j.cancel=function(){void 0!==s&&clearTimeout(s),d=0,i=c=o=s=void 0},j.flush=function(){return void 0===s?a:w(g())},j}},777:t=>{var e,n,i=Math.max,o=(e=function(t,e){return function(t,e,n){if(\"function\"!=typeof t)throw new TypeError(\"Expected a function\");return setTimeout((function(){t.apply(void 0,n)}),1)}(t,0,e)},n=i(void 0===n?e.length-1:n,0),function(){for(var t=arguments,o=-1,r=i(t.length-n,0),a=Array(r);++o<r;)a[o]=t[n+o];o=-1;for(var s=Array(n+1);++o<n;)s[o]=t[o];return s[n]=a,function(t,e,n){switch(n.length){case 0:return t.call(e);case 1:return t.call(e,n[0]);case 2:return t.call(e,n[0],n[1]);case 3:return t.call(e,n[0],n[1],n[2])}return t.apply(e,n)}(e,this,s)});t.exports=o}},e={};function n(i){var o=e[i];if(void 0!==o)return o.exports;var r=e[i]={exports:{}};return t[i](r,r.exports,n),r.exports}n.n=t=>{var e=t&&t.__esModule?()=>t.default:()=>t;return n.d(e,{a:e}),e},n.d=(t,e)=>{for(var i in e)n.o(e,i)&&!n.o(t,i)&&Object.defineProperty(t,i,{enumerable:!0,get:e[i]})},n.g=function(){if(\"object\"==typeof globalThis)return globalThis;try{return this||new Function(\"return this\")()}catch(t){if(\"object\"==typeof window)return window}}(),n.o=(t,e)=>Object.prototype.hasOwnProperty.call(t,e),(()=>{\"use strict\";const t=t=>{const e=new Set;do{for(const n of Reflect.ownKeys(t))e.add([t,n])}while((t=Reflect.getPrototypeOf(t))&&t!==Object.prototype);return e};function e(e,{include:n,exclude:i}={}){const o=t=>{const e=e=>\"string\"==typeof e?t===e:e.test(t);return n?n.some(e):!i||!i.some(e)};for(const[n,i]of t(e.constructor.prototype)){if(\"constructor\"===i||!o(i))continue;const t=Reflect.getOwnPropertyDescriptor(n,i);t&&\"function\"==typeof t.value&&(e[i]=e[i].bind(e))}return e}var i=n(777),o=n.n(i),r=n(296),a=n.n(r);class s{constructor(t,n){e(this),this.interfaceId=t,this.callbackMap={},this.data={},this.pendingData={},this.jcomm=new c(\"guidance_interface_target_\"+this.interfaceId,this.updateData,\"open\"),this.debouncedSendPendingData500=a()(this.sendPendingData,500),this.debouncedSendPendingData1000=a()(this.sendPendingData,1e3),n&&o()(n)}send(t,e){this.addPendingData(t,e),this.sendPendingData()}sendEvent(t){for(const e of Object.keys(t))this.addPendingData(e,t[e]);this.sendPendingData()}debouncedSendEvent500(t){for(const e of Object.keys(t))this.addPendingData(e,t[e]);this.debouncedSendPendingData500()}debouncedSend500(t,e){this.addPendingData(t,e),this.debouncedSendPendingData500()}debouncedSend1000(t,e){this.addPendingData(t,e),this.debouncedSendPendingData1000()}addPendingData(t,e){Array.isArray(t)||(t=[t]);for(const n in t)this.pendingData[t[n]]=e}updateData(t){t=JSON.parse(t.data);for(const e in t)this.data[e]=t[e];for(const e in t)e in this.callbackMap&&this.callbackMap[e](this.data[e])}subscribe(t,e){this.callbackMap[t]=e,o()((e=>this.callbackMap[t](this.data[t])))}sendPendingData(){this.jcomm.send_data(this.pendingData),this.pendingData={}}}class c{constructor(t,e,n=\"open\"){this._fire_callback=this._fire_callback.bind(this),this._register=this._register.bind(this),this.jcomm=void 0,this.callback=e,void 0!==window.Jupyter?\"register\"===n?Jupyter.notebook.kernel.comm_manager.register_target(t,this._register):(this.jcomm=Jupyter.notebook.kernel.comm_manager.new_comm(t),this.jcomm.on_msg(this._fire_callback)):void 0!==window._mgr&&(\"register\"===n?window._mgr.widgetManager.proxyKernel.registerCommTarget(t,this._register):(this.jcomm=window._mgr.widgetManager.proxyKernel.createComm(t),this.jcomm.open({},\"\"),this.jcomm.onMsg=this._fire_callback))}send_data(t){void 0!==this.jcomm?this.jcomm.send(t):console.error(\"Jupyter comm module not yet loaded! So we can't send the message.\")}_register(t,e){this.jcomm=t,this.jcomm.on_msg(this._fire_callback)}_fire_callback(t){this.callback(t.content.data)}}class d{constructor(t,n){e(this),this.id=t,this.comm=new s(t),this.comm.subscribe(\"append\",this.appendData),this.comm.subscribe(\"replace\",this.replaceData),this.comm.subscribe(\"event\",this.eventOccurred),this.element=document.getElementById(\"guidance-content-\"+t),this.stop_button=document.getElementById(\"guidance-stop-button-\"+t),this.stop_button.onclick=()=>this.comm.send(\"event\",\"stop\")}appendData(t){t&&(this.stop_button.style.display=\"inline-block\",this.element.innerHTML+=t)}replaceData(t){t&&(this.stop_button.style.display=\"inline-block\",this.element.innerHTML=t)}eventOccurred(t){\"complete\"===t&&(this.stop_button.style.display=\"none\")}}window._guidanceDisplay=function(t,e){return new d(t,e)}})()})();; window._guidanceDisplay(\"ddd4ffdb-95e4-4a95-b24a-286f1e585678\");</script>"
      ]
     },
     "metadata": {},
     "output_type": "display_data"
    }
   ],
   "source": [
    "critiqued_edges = validator.critique_graph(edges=relationships, llm=gpt4)"
   ]
  },
  {
   "cell_type": "code",
   "execution_count": null,
   "metadata": {},
   "outputs": [],
   "source": []
  },
  {
   "cell_type": "code",
   "execution_count": null,
   "metadata": {},
   "outputs": [],
   "source": []
  }
 ],
 "metadata": {
  "kernelspec": {
   "display_name": "askwhy_venv",
   "language": "python",
   "name": "python3"
  },
  "language_info": {
   "codemirror_mode": {
    "name": "ipython",
    "version": 3
   },
   "file_extension": ".py",
   "mimetype": "text/x-python",
   "name": "python",
   "nbconvert_exporter": "python",
   "pygments_lexer": "ipython3",
   "version": "3.10.11"
  },
  "orig_nbformat": 4
 },
 "nbformat": 4,
 "nbformat_minor": 2
}
