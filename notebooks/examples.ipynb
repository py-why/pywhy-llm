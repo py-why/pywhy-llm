{
 "cells": [
  {
   "cell_type": "code",
   "execution_count": null,
   "metadata": {},
   "outputs": [],
   "source": [
    "#from dotenv import load_dotenv\n",
    "import guidance\n",
    "import os\n",
    "\n",
    "#load_dotenv()\n",
    "\n",
    "api_key = os.getenv(\"OPENAI_API_KEY\")\n",
    "endpoint = \"https://msri-openai-ifaq.azure-api.net\"\n",
    "llm = guidance.models.AzureOpenAI(\n",
    "    model=\"gpt-4\",\n",
    "    azure_endpoint=endpoint,\n",
    "    api_key = api_key,\n",
    "    version=\"2023-03-15-preview\"\n",
    "    )"
   ]
  },
  {
   "cell_type": "code",
   "execution_count": null,
   "metadata": {},
   "outputs": [],
   "source": [
    "from typing import Dict, Tuple, List\n",
    "\n",
    "sea_ice_variables = [\n",
    "    \"geopotential_heights\", \n",
    "    \"relative_humidity\", \n",
    "    \"sea_level_pressure\",  \n",
    "    \"zonal_wind_at_10_meters\", \n",
    "    \"meridional_wind_at_10_meters\", \n",
    "    \"sensible_plus_latent_heat_flux\", \n",
    "    \"total_precipitation\", \n",
    "    \"total_cloud_cover\", \n",
    "    \"total_cloud_water_path\",  \n",
    "    \"surface_net_shortwave_flux\", \n",
    "    \"surface_net_longwave_flux\", \n",
    "    \"northern_hemisphere_sea_ice_extent\",\n",
    "]\n",
    "\n",
    "treatment = \"surface_net_longwave_flux\"\n",
    "outcome = \"northern_hemisphere_sea_ice_extent\"\n",
    "\n",
    "# ground truth confounders to the relationship between surface_net_longwave_flux and northern_hemisphere_sea_ice_extent\n",
    "sea_ice_confounders = [\"total_precipitation\"]\n",
    "   \n",
    "sea_ice_relationships: List[Tuple[str, str]] = [\n",
    "    (\"surface_net_longwave_flux\", \"northern_hemisphere_sea_ice_extent\"), \n",
    "    \n",
    "    (\"geopotential_heights\", \"surface_net_longwave_flux\"), \n",
    "    (\"geopotential_heights\", \"relative_humidity\"), \n",
    "    (\"geopotential_heights\", \"sea_level_pressure\"), \n",
    "\n",
    "    (\"relative_humidity\", \"total_cloud_cover\"), \n",
    "    (\"relative_humidity\", \"total_cloud_water_path\"),\n",
    "    (\"relative_humidity\", \"total_precipitation\"), \n",
    "    (\"relative_humidity\", \"surface_net_longwave_flux\"),\n",
    "\n",
    "    (\"sea_level_pressure\", \"relative_humidity\"), \n",
    "    (\"sea_level_pressure\", \"geopotential_heights\"), \n",
    "    (\"sea_level_pressure\", \"zonal_wind_at_10_meters\"), \n",
    "    (\"sea_level_pressure\", \"northern_hemisphere_sea_ice_extent\"), \n",
    "    (\"sea_level_pressure\", \"sensible_plus_latent_heat_flux\"), \n",
    "    (\"sea_level_pressure\", \"meridional_wind_at_10_meters\"),\n",
    "\n",
    "    (\"zonal_wind_at_10_meters\", \"northern_hemisphere_sea_ice_extent\"),\n",
    "    (\"zonal_wind_at_10_meters\", \"sensible_plus_latent_heat_flux\"), \n",
    "    \n",
    "    (\"meridional_wind_at_10_meters\", \"northern_hemisphere_sea_ice_extent\"),\n",
    "    (\"meridional_wind_at_10_meters\", \"sensible_plus_latent_heat_flux\"), \n",
    "   \n",
    "    (\"sensible_plus_latent_heat_flux\", \"northern_hemisphere_sea_ice_extent\"), \n",
    "    (\"sensible_plus_latent_heat_flux\", \"sea_level_pressure\"), \n",
    "    (\"sensible_plus_latent_heat_flux\", \"zonal_wind_at_10_meters\"), \n",
    "    (\"sensible_plus_latent_heat_flux\", \"meridional_wind_at_10_meters\"), \n",
    "    (\"sensible_plus_latent_heat_flux\", \"total_precipitation\"), \n",
    "    (\"sensible_plus_latent_heat_flux\", \"total_cloud_cover\"), \n",
    "    (\"sensible_plus_latent_heat_flux\", \"total_cloud_water_path\"), \n",
    "    \n",
    "    (\"total_precipitation\", \"northern_hemisphere_sea_ice_extent\"),\n",
    "    (\"total_precipitation\", \"relative_humidity\"),\n",
    "    (\"total_precipitation\", \"sensible_plus_latent_heat_flux\"),\n",
    "    (\"total_precipitation\", \"surface_net_longwave_flux\"),\n",
    "    (\"total_precipitation\", \"total_cloud_cover\"),\n",
    "    (\"total_precipitation\", \"total_cloud_water_path\"),\n",
    "   \n",
    "    (\"total_cloud_water_path\", \"total_precipitation\"), \n",
    "    (\"total_cloud_water_path\", \"sensible_plus_latent_heat_flux\"), \n",
    "    (\"total_cloud_water_path\", \"relative_humidity\"), \n",
    "    (\"total_cloud_water_path\", \"surface_net_longwave_flux\"), \n",
    "    (\"total_cloud_water_path\", \"surface_net_shortwave_flux\"), \n",
    "    \n",
    "    (\"total_cloud_cover\", \"total_precipitation\"),\n",
    "    (\"total_cloud_cover\", \"sensible_plus_latent_heat_flux\"),\n",
    "    (\"total_cloud_cover\", \"relative_humidity\"),\n",
    "    (\"total_cloud_cover\", \"surface_net_longwave_flux\"),\n",
    "    (\"total_cloud_cover\", \"surface_net_shortwave_flux\"), \n",
    "    \n",
    "    (\"surface_net_shortwave_flux\", \"northern_hemisphere_sea_ice_extent\"),\n",
    "    \n",
    "    (\"northern_hemisphere_sea_ice_extent\", \"sea_level_pressure\"),\n",
    "    (\"northern_hemisphere_sea_ice_extent\", \"zonal_wind_at_10_meters\"),\n",
    "    (\"northern_hemisphere_sea_ice_extent\", \"meridional_wind_at_10_meters\"),\n",
    "    (\"northern_hemisphere_sea_ice_extent\", \"sensible_plus_latent_heat_flux\"),\n",
    "    (\"northern_hemisphere_sea_ice_extent\", \"surface_net_shortwave_flux\"),\n",
    "    (\"northern_hemisphere_sea_ice_extent\", \"surface_net_longwave_flux\"),\n",
    "]"
   ]
  },
  {
   "cell_type": "markdown",
   "metadata": {},
   "source": [
    "## Helpers"
   ]
  },
  {
   "cell_type": "markdown",
   "metadata": {},
   "source": [
    "Model type - the type of LLM used\n",
    "By default it's set to completions models"
   ]
  },
  {
   "cell_type": "markdown",
   "metadata": {},
   "source": [
    "Relationship strategy - is the type of request made to the LLM (request parent, child, pairwise relationship)"
   ]
  },
  {
   "cell_type": "code",
   "execution_count": null,
   "metadata": {},
   "outputs": [],
   "source": [
    "#from suggesters import ModelType, RelationshipStrategy\n",
    "#model_type = ModelType.Completion\n",
    "#relationship_strategy = RelationshipStrategy.Parent"
   ]
  },
  {
   "cell_type": "markdown",
   "metadata": {},
   "source": [
    "## Model"
   ]
  },
  {
   "cell_type": "code",
   "execution_count": null,
   "metadata": {},
   "outputs": [],
   "source": [
    "import pywhyllm\n",
    "m = pywhyllm.SimpleModelSuggester()\n",
    "\n",
    "\"\"\"returns a dictionary with the how many times that edge was suggested\"\"\"\n",
    "model_edges = m.suggest_pairwise_relationship(llm, treatment, outcome)\n",
    "\n",
    "\"\"\"returns a dictionary with how many times a confounder/edge with confounder was suggested\"\"\"\n",
    "\"\"\"suggest_relationships calls suggest_confounders\"\"\"\n",
    "relationships = m.suggest_relationships(llm, sea_ice_variables[:2])\n"
   ]
  },
  {
   "cell_type": "code",
   "execution_count": null,
   "metadata": {},
   "outputs": [],
   "source": [
    "confounders = m.suggest_confounders(llm, variables=sea_ice_variables, treatment=treatment, outcome=outcome)"
   ]
  },
  {
   "cell_type": "code",
   "execution_count": null,
   "metadata": {},
   "outputs": [],
   "source": [
    "confounders"
   ]
  },
  {
   "cell_type": "markdown",
   "metadata": {},
   "source": [
    "## Identifier"
   ]
  },
  {
   "cell_type": "code",
   "execution_count": null,
   "metadata": {},
   "outputs": [],
   "source": [
    "from suggesters import IdentifierSuggester\n",
    "i = IdentifierSuggester()\n",
    "\n",
    "\"\"\"calls modeler suggest_confounders in the background\"\"\"\n",
    "backdoor = i.suggest_backdoor(treatment=treatment, outcome=outcome, factors_list=sea_ice_variables, llm=llm)\n",
    "\n",
    "\"\"\"suggests mediators\"\"\"\n",
    "front_door = i.suggest_frontdoor(treatment=treatment, outcome=outcome, factors_list=sea_ice_variables, llm=llm)\n",
    "\n",
    "\"\"\"suggests instrumental variables\"\"\"\n",
    "ivs = i.suggest_ivs(treatment=treatment, outcome=outcome, factors_list=sea_ice_variables, llm=llm)"
   ]
  },
  {
   "cell_type": "markdown",
   "metadata": {},
   "source": [
    "## Validator"
   ]
  },
  {
   "cell_type": "code",
   "execution_count": null,
   "metadata": {},
   "outputs": [],
   "source": [
    "from suggesters import ValidationSuggester\n",
    "v = ValidationSuggester()\n",
    "\n",
    "\"\"\"suggets latent confounders\"\"\"\n",
    "latent_confounders = v.suggest_latent_confounders(treatment=treatment, outcome=outcome, factors_list=sea_ice_variables, llm=llm)\n",
    "\n",
    "\"\"\"suggests negative controls\"\"\"\n",
    "negative_controls = v.suggest_negative_controls(treatment=treatment, outcome=outcome, factors_list=sea_ice_variables, llm=llm)\n",
    "\n",
    "parent=RelationshipStrategy.Parent\n",
    "child=RelationshipStrategy.Child\n",
    "pairwise=RelationshipStrategy.Pairwise\n",
    "\n",
    "\"\"\"Relationship strategy for choosing how to get the model critiqued\"\"\"\n",
    "edges, critiqued_edges = v.critique_graph(edges=model_edges, treatment=treatment, outcome=outcome, factors_list=sea_ice_variables, llm=llm, relationship_strategy=parent)"
   ]
  }
 ],
 "metadata": {
  "kernelspec": {
   "display_name": "Python 3 (ipykernel)",
   "language": "python",
   "name": "python3"
  },
  "language_info": {
   "codemirror_mode": {
    "name": "ipython",
    "version": 3
   },
   "file_extension": ".py",
   "mimetype": "text/x-python",
   "name": "python",
   "nbconvert_exporter": "python",
   "pygments_lexer": "ipython3",
   "version": "3.8.10"
  }
 },
 "nbformat": 4,
 "nbformat_minor": 4
}
